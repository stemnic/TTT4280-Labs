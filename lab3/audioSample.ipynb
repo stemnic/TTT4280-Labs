{
 "cells": [
  {
   "cell_type": "code",
   "execution_count": 51,
   "metadata": {},
   "outputs": [],
   "source": [
    "from raspi_import import raspi_import\n",
    "import os\n",
    "\n",
    "os.system(\"sh sample.sh\")\n",
    "data = raspi_import(\"data/adcData.bin\")"
   ]
  },
  {
   "cell_type": "code",
   "execution_count": 15,
   "metadata": {},
   "outputs": [
    {
     "name": "stdout",
     "output_type": "stream",
     "text": [
      "[[4095 4095 3642 4095 4095]\n",
      " [2414 2999 2119 2137 2122]\n",
      " [2430 3011 2141 2158 2142]\n",
      " ...\n",
      " [2451 3043 2042 2037 2058]\n",
      " [2464 3046 2061 2049 2073]\n",
      " [2462 3051 2084 2060 2087]]\n"
     ]
    }
   ],
   "source": [
    "from raspi_import import raspi_import\n",
    "\n",
    "data = raspi_import(\"data/adcData.bin\")\n",
    "\n",
    "print(data[1])"
   ]
  },
  {
   "cell_type": "code",
   "execution_count": 62,
   "metadata": {},
   "outputs": [],
   "source": [
    "import numpy as np\n",
    "from numpy.lib.stride_tricks import as_strided\n",
    "from numpy import *\n",
    "from matplotlib.pyplot import *\n",
    "import scipy.signal as sig\n",
    "#import scipy.signal as sig\n",
    "\n",
    "def _check_arg(x, xname):\n",
    "    x = np.asarray(x)\n",
    "    if x.ndim != 1:\n",
    "        raise ValueError('%s must be one-dimensional.' % xname)\n",
    "    return x\n",
    "\n",
    "def crosscorrelation(x, y, maxlag):\n",
    "    \"\"\"\n",
    "    Cross correlation with a maximum number of lags.\n",
    "\n",
    "    `x` and `y` must be one-dimensional numpy arrays with the same length.\n",
    "\n",
    "    This computes the same result as\n",
    "        numpy.correlate(x, y, mode='full')[len(a)-maxlag-1:len(a)+maxlag]\n",
    "\n",
    "    The return vaue has length 2*maxlag + 1.\n",
    "    \"\"\"\n",
    "    x = _check_arg(x, 'x')\n",
    "    y = _check_arg(y, 'y')\n",
    "    py = np.pad(y.conj(), 2*maxlag, mode='constant')\n",
    "    T = as_strided(py[2*maxlag:], shape=(2*maxlag+1, len(y) + 2*maxlag),\n",
    "                   strides=(-py.strides[0], py.strides[0]))\n",
    "    px = np.pad(x, maxlag, mode='constant')\n",
    "    return T.dot(px)\n",
    "def maxindex(array, maxlag):\n",
    "    result = np.argmax(abs(array))\n",
    "    return result-(array.size+1)/2\n",
    "def signalAngel(arrMic1, arrMic2, arrMic3, maxlag, ploting=False):\n",
    "    \n",
    "    x, HpassCoeff = sig.butter(4, 0.02, btype='high', analog=False, output='ba', fs=None)\n",
    "    filteredMic1 = sig.filtfilt(x, HpassCoeff, arrMic1)\n",
    "    filteredMic2 = sig.filtfilt(x, HpassCoeff, arrMic2)\n",
    "    filteredMic3 = sig.filtfilt(x, HpassCoeff, arrMic3)\n",
    "    \n",
    "    crosscorr1_2 = sig.correlate(filteredMic1, filteredMic2)\n",
    "    crosscorr2_3 = sig.correlate(filteredMic2, filteredMic3)\n",
    "    crosscorr1_3 = sig.correlate(filteredMic1, filteredMic3)    \n",
    "    t = linspace(-crosscorr1_2.size/2-1, crosscorr1_2.size/2+1, crosscorr1_2.size)\n",
    "    if ploting:\n",
    "        print(\"Mic1\")\n",
    "        plotSig(filteredMic1)\n",
    "        print(\"Mic2\")\n",
    "        plotSig(filteredMic2)\n",
    "        print(\"Mic3\")\n",
    "        plotSig(filteredMic3)\n",
    "        print(\"Cross Corrolation Mic1_2\")\n",
    "        plot(t,crosscorr1_2)\n",
    "        show()\n",
    "        print(\"Cross Corrolation Mic2_3\")\n",
    "        plot(t,crosscorr2_3)\n",
    "        show()\n",
    "        print(\"Cross Corrolation Mic1_3\")\n",
    "        plot(t,crosscorr1_3)\n",
    "        show()\n",
    "    #print(crosscorr1_2)\n",
    "    #print(crosscorr2_3)\n",
    "    #print(crosscorr3_1)\n",
    "    indexMax1_2 = maxindex(crosscorr1_2, maxlag)\n",
    "    indexMax2_3 = maxindex(crosscorr2_3, maxlag)\n",
    "    indexMax1_3 = maxindex(crosscorr1_3, maxlag)\n",
    "    #print(indexMax1_2)\n",
    "    #print(indexMax2_3)\n",
    "    #print(indexMax1_3)\n",
    "    rad = np.arctan(np.sqrt(3)*(indexMax1_2+indexMax1_3)/(indexMax1_2-indexMax1_3-2*indexMax2_3))\n",
    "    #print(\"angel: \"+ str(angel/(np.pi)*180))\n",
    "    return rad/(np.pi)*180\n",
    "\n",
    "def plotSig(signal):\n",
    "    t = linspace(0,1, signal.size)\n",
    "    plot(t, signal)\n",
    "    show()"
   ]
  },
  {
   "cell_type": "code",
   "execution_count": 48,
   "metadata": {},
   "outputs": [],
   "source": [
    "radarI = data[1][:,0]\n",
    "radarQ = data[1][:,1]"
   ]
  },
  {
   "cell_type": "code",
   "execution_count": 52,
   "metadata": {},
   "outputs": [
    {
     "data": {
      "text/plain": [
       "[<matplotlib.lines.Line2D at 0x6ee50040>,\n",
       " <matplotlib.lines.Line2D at 0x6ee50cb8>]"
      ]
     },
     "execution_count": 52,
     "metadata": {},
     "output_type": "execute_result"
    },
    {
     "data": {
      "image/png": "[encoded data removed]",
      "text/plain": [
       "<Figure size 432x288 with 1 Axes>"
      ]
     },
     "metadata": {
      "needs_background": "light"
     },
     "output_type": "display_data"
    }
   ],
   "source": [
    "import matplotlib.pyplot as plt\n",
    "import numpy as np\n",
    "\n",
    "radarI = data[1][:,0]\n",
    "radarQ = data[1][:,1]\n",
    "\n",
    "dataobj = radarI\n",
    "\n",
    "t = np.arange(0,len(dataobj))\n",
    "\n",
    "sp = np.fft.fft(dataobj)\n",
    "\n",
    "freq = np.fft.fftfreq(dataobj.size, d=32e-6)\n",
    "#freq = np.fft.fftfreq(t.shape[-1])\n",
    "\n",
    "plt.xscale('log')\n",
    "#plt.yscale('log')\n",
    "f_d = abs(freq[np.argmax(sp.imag)])\n",
    "plt.plot(freq, sp.real, freq, sp.imag)"
   ]
  },
  {
   "cell_type": "code",
   "execution_count": 53,
   "metadata": {},
   "outputs": [
    {
     "name": "stdout",
     "output_type": "stream",
     "text": [
      "Doplershift ferq 205.000000 Hz\n",
      "Speed 1.274347 m/s\n"
     ]
    }
   ],
   "source": [
    "f_0 = 24.13*10**9\n",
    "c = 3*10**8\n",
    "V_r = f_d*c/(2*f_0)\n",
    "print(\"Doplershift ferq %f Hz\" % (f_d))\n",
    "print(\"Speed %f m/s\" % (V_r))"
   ]
  },
  {
   "cell_type": "code",
   "execution_count": 21,
   "metadata": {},
   "outputs": [
    {
     "data": {
      "image/png": "[encoded data removed]",
      "text/plain": [
       "<Figure size 432x288 with 1 Axes>"
      ]
     },
     "metadata": {
      "needs_background": "light"
     },
     "output_type": "display_data"
    },
    {
     "data": {
      "image/png": "[encoded data removed]",
      "text/plain": [
       "<Figure size 432x288 with 1 Axes>"
      ]
     },
     "metadata": {
      "needs_background": "light"
     },
     "output_type": "display_data"
    }
   ],
   "source": [
    "from numpy import *\n",
    "from matplotlib.pyplot import *\n",
    "    \n",
    "t = linspace(0,1, radarI.size)\n",
    "plot(t,radarI)\n",
    "show()\n",
    "plot(t,radarQ)\n",
    "show()"
   ]
  }
 ],
 "metadata": {
  "kernelspec": {
   "display_name": "Python 3",
   "language": "python",
   "name": "python3"
  },
  "language_info": {
   "codemirror_mode": {
    "name": "ipython",
    "version": 3
   },
   "file_extension": ".py",
   "mimetype": "text/x-python",
   "name": "python",
   "nbconvert_exporter": "python",
   "pygments_lexer": "ipython3",
   "version": "3.8.1"
  }
 },
 "nbformat": 4,
 "nbformat_minor": 4
}
