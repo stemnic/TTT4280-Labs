{
 "cells": [
  {
   "cell_type": "code",
   "execution_count": 95,
   "metadata": {},
   "outputs": [
    {
     "data": {
      "text/plain": [
       "0"
      ]
     },
     "execution_count": 95,
     "metadata": {},
     "output_type": "execute_result"
    }
   ],
   "source": [
    "import os\n",
    "\n",
    "os.system(\"sh sample.sh\")\n",
    "data = raspi_import(\"data/adcData.bin\")"
   ]
  },
  {
   "cell_type": "code",
   "execution_count": 75,
   "metadata": {},
   "outputs": [
    {
     "name": "stdout",
     "output_type": "stream",
     "text": [
      "[[3072    0    8 3824 1776]\n",
      " [  78   57 1959 2098 1972]\n",
      " [  41   14 2030 2036 1927]\n",
      " ...\n",
      " [  27    0 2148 2179 2114]\n",
      " [  26    0 2240 2117 1957]\n",
      " [  26    0 2250 2033 1847]]\n"
     ]
    }
   ],
   "source": [
    "from raspi_import import raspi_import\n",
    "\n",
    "data = raspi_import(\"data/adcData.bin\")\n",
    "\n",
    "print(data[1])"
   ]
  },
  {
   "cell_type": "code",
   "execution_count": 94,
   "metadata": {},
   "outputs": [],
   "source": [
    "import numpy as np\n",
    "from numpy.lib.stride_tricks import as_strided\n",
    "#import scipy.signal as sig\n",
    "\n",
    "def _check_arg(x, xname):\n",
    "    x = np.asarray(x)\n",
    "    if x.ndim != 1:\n",
    "        raise ValueError('%s must be one-dimensional.' % xname)\n",
    "    return x\n",
    "\n",
    "def crosscorrelation(x, y, maxlag):\n",
    "    \"\"\"\n",
    "    Cross correlation with a maximum number of lags.\n",
    "\n",
    "    `x` and `y` must be one-dimensional numpy arrays with the same length.\n",
    "\n",
    "    This computes the same result as\n",
    "        numpy.correlate(x, y, mode='full')[len(a)-maxlag-1:len(a)+maxlag]\n",
    "\n",
    "    The return vaue has length 2*maxlag + 1.\n",
    "    \"\"\"\n",
    "    x = _check_arg(x, 'x')\n",
    "    y = _check_arg(y, 'y')\n",
    "    py = np.pad(y.conj(), 2*maxlag, mode='constant')\n",
    "    T = as_strided(py[2*maxlag:], shape=(2*maxlag+1, len(y) + 2*maxlag),\n",
    "                   strides=(-py.strides[0], py.strides[0]))\n",
    "    px = np.pad(x, maxlag, mode='constant')\n",
    "    return T.dot(px)\n",
    "def maxindex(array, maxlag):\n",
    "    result = np.argmax(array)\n",
    "    return result-maxlag\n",
    "def signalAngel(arrMic1, arrMic2, arrMic3, maxlag):\n",
    "    crosscorr1_2 = crosscorrelation(arrMic1, arrMic2, maxlag)\n",
    "    crosscorr2_3 = crosscorrelation(arrMic2, arrMic3, maxlag)\n",
    "    crosscorr3_1 = crosscorrelation(arrMic3, arrMic1, maxlag)\n",
    "    print(crosscorr1_2)\n",
    "    print(crosscorr2_3)\n",
    "    print(crosscorr3_1)\n",
    "    indexMax1_2 = maxindex(crosscorr1_2, maxlag)\n",
    "    indexMax2_3 = maxindex(crosscorr1_2, maxlag)\n",
    "    indexMax3_1 = maxindex(crosscorr1_2, maxlag)\n",
    "    print(indexMax1_2)\n",
    "    print(indexMax2_3)\n",
    "    print(indexMax3_1)\n",
    "    angel = np.arctan(np.sqrt(3)*(indexMax1_2+indexMax3_1)/(indexMax1_2-indexMax3_1-2*indexMax2_3))\n",
    "    return angel\n",
    "    "
   ]
  },
  {
   "cell_type": "code",
   "execution_count": 96,
   "metadata": {},
   "outputs": [
    {
     "name": "stdout",
     "output_type": "stream",
     "text": [
      "[795  99 240 ... 231 147  97]\n",
      "[830  50 -17 ... 240 251 292]\n",
      "[ 730   42 -128 ...  289  316  423]\n",
      "[  6496  32065  25186  15124  -3904  -3871 -15058  -7304   8938 -30837\n",
      "  24197  18424  -3751  25515   2396  -2008   7773]\n",
      "[-16979  32174   3115  -7863  14811  29225  -1109  25886  15870  11953\n",
      "   8511  16686 -17656 -20365    661 -31304  15005]\n",
      "[-10200  13525  30375  25261 -32759   5236 -30107 -18872   9126  11403\n",
      " -13835  -3018  27399  28356 -28426  31590  27425]\n",
      "-7\n",
      "-7\n",
      "-7\n",
      "-1.0471975511965976\n"
     ]
    }
   ],
   "source": [
    "maxlag = 8\n",
    "dcComp = 1986\n",
    "\n",
    "mic1 = data[1][:,4].astype(np.int16)-dcComp\n",
    "mic2 = data[1][:,3].astype(np.int16)-dcComp\n",
    "mic3 = data[1][:,2].astype(np.int16)-dcComp\n",
    "\n",
    "#print(data[1][:,4])\n",
    "print(mic1)\n",
    "print(mic2)\n",
    "print(mic3)\n",
    "\n",
    "print(signalAngel(mic1,mic2,mic3, maxlag))\n"
   ]
  },
  {
   "cell_type": "code",
   "execution_count": 47,
   "metadata": {},
   "outputs": [
    {
     "data": {
      "text/plain": [
       "[<matplotlib.lines.Line2D at 0x6ef23040>]"
      ]
     },
     "execution_count": 47,
     "metadata": {},
     "output_type": "execute_result"
    },
    {
     "data": {
      "image/png": "[encoded data removed]",
      "text/plain": [
       "<Figure size 432x288 with 1 Axes>"
      ]
     },
     "metadata": {
      "needs_background": "light"
     },
     "output_type": "display_data"
    }
   ],
   "source": [
    "import matplotlib.pyplot as plt\n",
    "import numpy as np\n",
    "\n",
    "dataobj = data[1][:,2]\n",
    "#print(dataobj)\n",
    "t = np.arange(0,len(dataobj))\n",
    "#t = np.arange(0,1,1/len(dataobj))\n",
    "#print(t)\n",
    "sp = np.fft.fft(dataobj)\n",
    "freq = np.fft.fftfreq(dataobj.size, d=32e-6)\n",
    "#freq = t\n",
    "#print(sp.real)\n",
    "plt.xscale('log')\n",
    "#plt.yscale('log')\n",
    "plt.plot(freq,abs(sp)**2)"
   ]
  }
 ],
 "metadata": {
  "kernelspec": {
   "display_name": "Python 3",
   "language": "python",
   "name": "python3"
  },
  "language_info": {
   "codemirror_mode": {
    "name": "ipython",
    "version": 3
   },
   "file_extension": ".py",
   "mimetype": "text/x-python",
   "name": "python",
   "nbconvert_exporter": "python",
   "pygments_lexer": "ipython3",
   "version": "3.8.1"
  }
 },
 "nbformat": 4,
 "nbformat_minor": 4
}
