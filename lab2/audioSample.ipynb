{
 "cells": [
  {
   "cell_type": "code",
   "execution_count": 95,
   "metadata": {},
   "outputs": [
    {
     "data": {
      "text/plain": [
       "0"
      ]
     },
     "execution_count": 95,
     "metadata": {},
     "output_type": "execute_result"
    }
   ],
   "source": [
    "import os\n",
    "\n",
    "os.system(\"sh sample.sh\")\n",
    "data = raspi_import(\"data/adcData.bin\")"
   ]
  },
  {
   "cell_type": "code",
   "execution_count": 1,
   "metadata": {},
   "outputs": [
    {
     "name": "stdout",
     "output_type": "stream",
     "text": [
      "[[2901 2517 2716 2816 2781]\n",
      " [ 105  100 2028 2036 2085]\n",
      " [  48   39 1858 1969 2226]\n",
      " ...\n",
      " [  29   19 2275 2226 2217]\n",
      " [  28   19 2302 2237 2133]\n",
      " [  29   20 2409 2278 2083]]\n"
     ]
    }
   ],
   "source": [
    "from raspi_import import raspi_import\n",
    "\n",
    "data = raspi_import(\"data/adcData.bin\")\n",
    "\n",
    "print(data[1])"
   ]
  },
  {
   "cell_type": "code",
   "execution_count": 1,
   "metadata": {},
   "outputs": [
    {
     "ename": "ModuleNotFoundError",
     "evalue": "No module named 'scipy'",
     "output_type": "error",
     "traceback": [
      "\u001b[0;31m---------------------------------------------------------------------------\u001b[0m",
      "\u001b[0;31mModuleNotFoundError\u001b[0m                       Traceback (most recent call last)",
      "\u001b[0;32m<ipython-input-1-28727da42967>\u001b[0m in \u001b[0;36m<module>\u001b[0;34m\u001b[0m\n\u001b[1;32m      3\u001b[0m \u001b[0;32mfrom\u001b[0m \u001b[0mnumpy\u001b[0m \u001b[0;32mimport\u001b[0m \u001b[0;34m*\u001b[0m\u001b[0;34m\u001b[0m\u001b[0;34m\u001b[0m\u001b[0m\n\u001b[1;32m      4\u001b[0m \u001b[0;32mfrom\u001b[0m \u001b[0mmatplotlib\u001b[0m\u001b[0;34m.\u001b[0m\u001b[0mpyplot\u001b[0m \u001b[0;32mimport\u001b[0m \u001b[0;34m*\u001b[0m\u001b[0;34m\u001b[0m\u001b[0;34m\u001b[0m\u001b[0m\n\u001b[0;32m----> 5\u001b[0;31m \u001b[0;32mimport\u001b[0m \u001b[0mscipy\u001b[0m\u001b[0;34m.\u001b[0m\u001b[0msignal\u001b[0m \u001b[0;32mas\u001b[0m \u001b[0msig\u001b[0m\u001b[0;34m\u001b[0m\u001b[0;34m\u001b[0m\u001b[0m\n\u001b[0m\u001b[1;32m      6\u001b[0m \u001b[0;31m#import scipy.signal as sig\u001b[0m\u001b[0;34m\u001b[0m\u001b[0;34m\u001b[0m\u001b[0;34m\u001b[0m\u001b[0m\n\u001b[1;32m      7\u001b[0m \u001b[0;34m\u001b[0m\u001b[0m\n",
      "\u001b[0;31mModuleNotFoundError\u001b[0m: No module named 'scipy'"
     ]
    }
   ],
   "source": [
    "import numpy as np\n",
    "from numpy.lib.stride_tricks import as_strided\n",
    "from numpy import *\n",
    "from matplotlib.pyplot import *\n",
    "import scipy.signal as sig\n",
    "#import scipy.signal as sig\n",
    "\n",
    "def _check_arg(x, xname):\n",
    "    x = np.asarray(x)\n",
    "    if x.ndim != 1:\n",
    "        raise ValueError('%s must be one-dimensional.' % xname)\n",
    "    return x\n",
    "\n",
    "def crosscorrelation(x, y, maxlag):\n",
    "    \"\"\"\n",
    "    Cross correlation with a maximum number of lags.\n",
    "\n",
    "    `x` and `y` must be one-dimensional numpy arrays with the same length.\n",
    "\n",
    "    This computes the same result as\n",
    "        numpy.correlate(x, y, mode='full')[len(a)-maxlag-1:len(a)+maxlag]\n",
    "\n",
    "    The return vaue has length 2*maxlag + 1.\n",
    "    \"\"\"\n",
    "    x = _check_arg(x, 'x')\n",
    "    y = _check_arg(y, 'y')\n",
    "    py = np.pad(y.conj(), 2*maxlag, mode='constant')\n",
    "    T = as_strided(py[2*maxlag:], shape=(2*maxlag+1, len(y) + 2*maxlag),\n",
    "                   strides=(-py.strides[0], py.strides[0]))\n",
    "    px = np.pad(x, maxlag, mode='constant')\n",
    "    return T.dot(px)\n",
    "def maxindex(array, maxlag):\n",
    "    result = np.argmax(abs(array))\n",
    "    return result-(array.size+1)/2\n",
    "def signalAngel(arrMic1, arrMic2, arrMic3, maxlag, ploting=False):\n",
    "    crosscorr1_2 = sig.correlate(arrMic1, arrMic2)\n",
    "    crosscorr2_3 = sig.correlate(arrMic2, arrMic3)\n",
    "    crosscorr1_3 = sig.correlate(arrMic1, arrMic3)    \n",
    "    t = linspace(-crosscorr1_2.size/2-1, crosscorr1_2.size/2+1, crosscorr1_2.size)\n",
    "    if ploting:\n",
    "        plot(t,crosscorr1_2)\n",
    "        show()\n",
    "        plot(t,crosscorr2_3)\n",
    "        show()\n",
    "        plot(t,crosscorr1_3)\n",
    "        show()\n",
    "    #print(crosscorr1_2)\n",
    "    #print(crosscorr2_3)\n",
    "    #print(crosscorr3_1)\n",
    "    indexMax1_2 = maxindex(crosscorr1_2, maxlag)\n",
    "    indexMax2_3 = maxindex(crosscorr2_3, maxlag)\n",
    "    indexMax1_3 = maxindex(crosscorr1_3, maxlag)\n",
    "    #print(indexMax1_2)\n",
    "    #print(indexMax2_3)\n",
    "    #print(indexMax1_3)\n",
    "    rad = np.arctan(np.sqrt(3)*(indexMax1_2+indexMax1_3)/(indexMax1_2-indexMax1_3-2*indexMax2_3))\n",
    "    #print(\"angel: \"+ str(angel/(np.pi)*180))\n",
    "    return rad/(np.pi)*180\n",
    "    "
   ]
  },
  {
   "cell_type": "code",
   "execution_count": 134,
   "metadata": {},
   "outputs": [
    {
     "name": "stdout",
     "output_type": "stream",
     "text": [
      "86.32950349168489\n"
     ]
    }
   ],
   "source": [
    "maxlag = 8\n",
    "dcComp = 1986\n",
    "\n",
    "def offsetvalue(data):\n",
    "    size = 0\n",
    "    total = 0\n",
    "    for signals in data:\n",
    "        total += signals\n",
    "        size += 1\n",
    "    return total/size\n",
    "\n",
    "mic1 = data[1][:,4]#.astype(np.int16)#-dcComp\n",
    "mic2 = data[1][:,3]#.astype(np.int16)#-dcComp\n",
    "mic3 = data[1][:,2]#.astype(np.int16)#-dcComp\n",
    "\n",
    "mic1 = mic1-offsetvalue(mic1)\n",
    "mic2 = mic2-offsetvalue(mic2)\n",
    "mic3 = mic3-offsetvalue(mic3)\n",
    "\n",
    "\n",
    "\n",
    "#print(data[1][:,4])\n",
    "#print(mic1)\n",
    "#print(mic2)\n",
    "#print(mic3)\n",
    "\n",
    "print(signalAngel(mic1,mic2,mic3, maxlag, False))\n"
   ]
  },
  {
   "cell_type": "code",
   "execution_count": 3,
   "metadata": {},
   "outputs": [
    {
     "data": {
      "text/plain": [
       "[<matplotlib.lines.Line2D at 0x6fbca220>]"
      ]
     },
     "execution_count": 3,
     "metadata": {},
     "output_type": "execute_result"
    },
    {
     "data": {
      "image/png": "[encoded data removed]",
      "text/plain": [
       "<Figure size 432x288 with 1 Axes>"
      ]
     },
     "metadata": {
      "needs_background": "light"
     },
     "output_type": "display_data"
    }
   ],
   "source": [
    "import matplotlib.pyplot as plt\n",
    "import numpy as np\n",
    "\n",
    "dataobj = data[1][:,2]\n",
    "#print(dataobj)\n",
    "t = np.arange(0,len(dataobj))\n",
    "#t = np.arange(0,1,1/len(dataobj))\n",
    "#print(t)\n",
    "sp = np.fft.fft(dataobj)\n",
    "freq = np.fft.fftfreq(dataobj.size, d=32e-6)\n",
    "#freq = t\n",
    "#print(sp.real)\n",
    "plt.xscale('log')\n",
    "#plt.yscale('log')\n",
    "plt.plot(freq,abs(sp)**2)"
   ]
  },
  {
   "cell_type": "code",
   "execution_count": 4,
   "metadata": {},
   "outputs": [
    {
     "ename": "NameError",
     "evalue": "name 'mic1' is not defined",
     "output_type": "error",
     "traceback": [
      "\u001b[0;31m---------------------------------------------------------------------------\u001b[0m",
      "\u001b[0;31mNameError\u001b[0m                                 Traceback (most recent call last)",
      "\u001b[0;32m<ipython-input-4-daa8cb160632>\u001b[0m in \u001b[0;36m<module>\u001b[0;34m\u001b[0m\n\u001b[1;32m      2\u001b[0m \u001b[0;32mfrom\u001b[0m \u001b[0mmatplotlib\u001b[0m\u001b[0;34m.\u001b[0m\u001b[0mpyplot\u001b[0m \u001b[0;32mimport\u001b[0m \u001b[0;34m*\u001b[0m\u001b[0;34m\u001b[0m\u001b[0;34m\u001b[0m\u001b[0m\n\u001b[1;32m      3\u001b[0m \u001b[0;34m\u001b[0m\u001b[0m\n\u001b[0;32m----> 4\u001b[0;31m \u001b[0mt\u001b[0m \u001b[0;34m=\u001b[0m \u001b[0mlinspace\u001b[0m\u001b[0;34m(\u001b[0m\u001b[0;36m0\u001b[0m\u001b[0;34m,\u001b[0m\u001b[0;36m1\u001b[0m\u001b[0;34m,\u001b[0m \u001b[0mmic1\u001b[0m\u001b[0;34m.\u001b[0m\u001b[0msize\u001b[0m\u001b[0;34m)\u001b[0m\u001b[0;34m\u001b[0m\u001b[0;34m\u001b[0m\u001b[0m\n\u001b[0m\u001b[1;32m      5\u001b[0m \u001b[0mplot\u001b[0m\u001b[0;34m(\u001b[0m\u001b[0mt\u001b[0m\u001b[0;34m,\u001b[0m\u001b[0mmic1\u001b[0m\u001b[0;34m)\u001b[0m\u001b[0;34m\u001b[0m\u001b[0;34m\u001b[0m\u001b[0m\n\u001b[1;32m      6\u001b[0m \u001b[0mshow\u001b[0m\u001b[0;34m(\u001b[0m\u001b[0;34m)\u001b[0m\u001b[0;34m\u001b[0m\u001b[0;34m\u001b[0m\u001b[0m\n",
      "\u001b[0;31mNameError\u001b[0m: name 'mic1' is not defined"
     ]
    }
   ],
   "source": [
    "from numpy import *\n",
    "from matplotlib.pyplot import *\n",
    "    \n",
    "t = linspace(0,1, mic1.size)\n",
    "plot(t,mic1)\n",
    "show()\n",
    "plot(t,mic2)\n",
    "show()\n",
    "plot(t,mic3)\n",
    "show()"
   ]
  }
 ],
 "metadata": {
  "kernelspec": {
   "display_name": "Python 3",
   "language": "python",
   "name": "python3"
  },
  "language_info": {
   "codemirror_mode": {
    "name": "ipython",
    "version": 3
   },
   "file_extension": ".py",
   "mimetype": "text/x-python",
   "name": "python",
   "nbconvert_exporter": "python",
   "pygments_lexer": "ipython3",
   "version": "3.8.1"
  }
 },
 "nbformat": 4,
 "nbformat_minor": 4
}
