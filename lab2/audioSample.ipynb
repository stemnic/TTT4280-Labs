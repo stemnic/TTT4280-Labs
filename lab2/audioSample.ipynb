{
 "cells": [
  {
   "cell_type": "code",
   "execution_count": 9,
   "metadata": {},
   "outputs": [
    {
     "data": {
      "text/plain": [
       "0"
      ]
     },
     "execution_count": 9,
     "metadata": {},
     "output_type": "execute_result"
    }
   ],
   "source": [
    "import os\n",
    "\n",
    "os.system(\"sh sample.sh\")"
   ]
  },
  {
   "cell_type": "code",
   "execution_count": 2,
   "metadata": {},
   "outputs": [
    {
     "name": "stdout",
     "output_type": "stream",
     "text": [
      "[[2234  899  967  254 3437]\n",
      " [ 124  120  124  140  162]\n",
      " [  52   44   53   55   63]\n",
      " ...\n",
      " [  26   17   28   23   26]\n",
      " [  26   17   28   23   26]\n",
      " [  23   14   25   20   23]]\n"
     ]
    }
   ],
   "source": [
    "from raspi_import import raspi_import\n",
    "\n",
    "data = raspi_import(\"data/adcData.bin\")\n",
    "\n",
    "print(data[1])"
   ]
  },
  {
   "cell_type": "code",
   "execution_count": 21,
   "metadata": {},
   "outputs": [],
   "source": [
    "import numpy as np\n",
    "from numpy.lib.stride_tricks import as_strided\n",
    "\n",
    "def _check_arg(x, xname):\n",
    "    x = np.asarray(x)\n",
    "    if x.ndim != 1:\n",
    "        raise ValueError('%s must be one-dimensional.' % xname)\n",
    "    return x\n",
    "\n",
    "def crosscorrelation(x, y, maxlag):\n",
    "    \"\"\"\n",
    "    Cross correlation with a maximum number of lags.\n",
    "\n",
    "    `x` and `y` must be one-dimensional numpy arrays with the same length.\n",
    "\n",
    "    This computes the same result as\n",
    "        numpy.correlate(x, y, mode='full')[len(a)-maxlag-1:len(a)+maxlag]\n",
    "\n",
    "    The return vaue has length 2*maxlag + 1.\n",
    "    \"\"\"\n",
    "    x = _check_arg(x, 'x')\n",
    "    y = _check_arg(y, 'y')\n",
    "    py = np.pad(y.conj(), 2*maxlag, mode='constant')\n",
    "    T = as_strided(py[2*maxlag:], shape=(2*maxlag+1, len(y) + 2*maxlag),\n",
    "                   strides=(-py.strides[0], py.strides[0]))\n",
    "    px = np.pad(x, maxlag, mode='constant')\n",
    "    return T.dot(px)\n",
    "def maxindex(array, maxlag):\n",
    "    result = np.argmax(array)\n",
    "    return result-maxlag\n",
    "def signalAngel(arrMic1, arrMic2, arrMic3, maxlag):\n",
    "    crosscorr1_2 = crosscorrelation(arrMic1, arrMic2, maxlag)\n",
    "    crosscorr2_3 = crosscorrelation(arrMic2, arrMic3, maxlag)\n",
    "    crosscorr3_1 = crosscorrelation(arrMic3, arrMic1, maxlag)\n",
    "    indexMax1_2 = maxindex(crosscorr1_2, maxlag)\n",
    "    indexMax2_3 = maxindex(crosscorr1_2, maxlag)\n",
    "    indexMax3_1 = maxindex(crosscorr1_2, maxlag)\n",
    "    angel = np.arctan(np.sqrt(3)*(indexMax1_2+indexMax3_1)/(indexMax1_2-indexMax3_1-2*indexMax2_3))\n",
    "    return angel\n",
    "    "
   ]
  },
  {
   "cell_type": "code",
   "execution_count": 22,
   "metadata": {},
   "outputs": [
    {
     "name": "stdout",
     "output_type": "stream",
     "text": [
      "-1.0471975511965979\n"
     ]
    }
   ],
   "source": [
    "maxlag = 5\n",
    "\n",
    "mic1 = data[1][:,4]\n",
    "mic2 = data[1][:,3]\n",
    "mic3 = data[1][:,2]\n",
    "\n",
    "print(signalAngel(mic1,mic2,mic3, maxlag))\n"
   ]
  },
  {
   "cell_type": "code",
   "execution_count": 5,
   "metadata": {},
   "outputs": [
    {
     "name": "stdout",
     "output_type": "stream",
     "text": [
      "[    0     1     2 ... 31247 31248 31249]\n",
      "[866364.           2272.97565499   3833.86866436 ...   2819.98360369\n",
      "   3833.86866436   2272.97565499]\n"
     ]
    },
    {
     "data": {
      "text/plain": [
       "[<matplotlib.lines.Line2D at 0x7356c4f0>]"
      ]
     },
     "execution_count": 5,
     "metadata": {},
     "output_type": "execute_result"
    },
    {
     "data": {
      "image/png": "[encoded data removed]",
      "text/plain": [
       "<Figure size 432x288 with 1 Axes>"
      ]
     },
     "metadata": {
      "needs_background": "light"
     },
     "output_type": "display_data"
    }
   ],
   "source": [
    "import matplotlib.pyplot as plt\n",
    "import numpy as np\n",
    "\n",
    "dataobj = data[1][:,4]\n",
    "#print(dataobj)\n",
    "t = np.arange(0,len(dataobj))\n",
    "#t = np.arange(0,1,1/len(dataobj))\n",
    "print(t)\n",
    "sp = np.fft.fft(dataobj)\n",
    "freq = np.fft.fftfreq(dataobj.size, d=32e-6)\n",
    "#freq = t\n",
    "print(sp.real)\n",
    "plt.xscale('log')\n",
    "#plt.yscale('log')\n",
    "plt.plot(freq,abs(sp)**2)"
   ]
  }
 ],
 "metadata": {
  "kernelspec": {
   "display_name": "Python 3",
   "language": "python",
   "name": "python3"
  },
  "language_info": {
   "codemirror_mode": {
    "name": "ipython",
    "version": 3
   },
   "file_extension": ".py",
   "mimetype": "text/x-python",
   "name": "python",
   "nbconvert_exporter": "python",
   "pygments_lexer": "ipython3",
   "version": "3.8.1"
  }
 },
 "nbformat": 4,
 "nbformat_minor": 4
}
